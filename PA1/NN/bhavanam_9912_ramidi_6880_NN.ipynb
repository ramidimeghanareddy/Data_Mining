{
 "cells": [
  {
   "cell_type": "markdown",
   "id": "ecc5c302",
   "metadata": {},
   "source": [
    "# Data Mining Assignment 2_NN"
   ]
  },
  {
   "cell_type": "markdown",
   "id": "4e6ed629",
   "metadata": {},
   "source": [
    "## Student Details\n",
    "\n",
    "Student Name and ID of the member submitting the assignment:MANIKANTA BHAVANAM(1002039918),MEGHANA RAMIDI(1002036880)\n",
    "\n",
    "Student Name and ID of the remaining members: SWATHI SHANAM(1002023662)\n",
    "\n",
    "Notes:\n",
    "When submitting, fill your name and ID in this cell. Note that this is a markdown cell!<br>\n",
    "Do not make any changes in the dataset file and do not rename the 'database.csv'.\n",
    "<br> Rename your submission file to <b> 'yourLastName_Last4digitsofyourID_PA1.ipynb' </b>. \n",
    "<br> Do not to forget to cite any external sources used by you. \n",
    "**10 points per question will be deducted incase you fail to do so**\n",
    "<br>**DO NOT DELETE THIS CELL**<br>\n",
    "#### Please consult the TA before using any other packages apart from sklearn,numpy,pandas, matplotlib and seaborn"
   ]
  },
  {
   "cell_type": "markdown",
   "id": "10b74158",
   "metadata": {},
   "source": [
    "## Programming Assignment Submission Instructions (2 Points)\n",
    "\n",
    "Step 1: Rename this submission file as 'yourLastName_Last4digitsofyourID_DT.ipynb' [1 point]\n",
    "\n",
    "Step 2: Place this file inside the folder 'PA#2_Classification_yourLastName'  [1 point]"
   ]
  },
  {
   "cell_type": "markdown",
   "id": "4410c49a",
   "metadata": {},
   "source": [
    "## Programming Assignment Details (25 Points)\n",
    "\n",
    "For this assignment use Jupyter notebook, Panda, and scikit.\n",
    "\n",
    " * Load pima-indians-diabetes dataset from sklearn datasets. Output/prediction variable is 'class'[1 points]\n",
    " * while selecting best 3 attributes for training,validating and testing your model. [2 points]\n",
    " * Find the best K. [3 points]\n",
    " * Split your dataset - 60% for training set, 20% for Validation set and 20% for testing set the classifier. Use random state as 2022 [2 points]\n",
    " * Use minkowski distance.[1 points]\n",
    " * Test the classifier with three different numbers for neighbors and record the results for training, validation and testing. Show the best one.[3 points]\n",
    " * Use comments to explain your code and variable names.[4 points]\n",
    " * Calculate and print the confusion matrix, and the classification Report (includes:precision, recall, f1-score, and support) for all three different numbers.[6 points]\n",
    " * Plot the classifier in a 2D projection.[3 points]"
   ]
  },
  {
   "cell_type": "markdown",
   "id": "e7f67020",
   "metadata": {},
   "source": [
    "## Report (23 Points)\n",
    "\n",
    "For each classification task you need to submit a report (Microsoft Word, or PDF) that you have to:\n",
    "* Explain all the preprocessing done in detail.[4 points]\n",
    "* Explain all the parameters of KNN in details in your own words. Do not copy paste. Give references. 10 Points will be deducted if you copy paste from the internet. [5 points]\n",
    "* Explain what was your criteria for selecting the three attributes. [5 points]\n",
    "* Visualizations of the classifier in a 2D projection, and write your observations. [4 points]\n",
    "* Interprete and compare the results explain in details.[5 points]\n",
    "\n",
    "Do not to forget to cite your sources!"
   ]
  },
  {
   "cell_type": "code",
   "execution_count": 1,
   "id": "1c384e7f",
   "metadata": {},
   "outputs": [],
   "source": [
    "#import Libraries\n",
    "\n",
    "import numpy as np #Helps for Multidimensional Array and Matrices\n",
    "import pandas as pd #Helps with Data Analysis\n",
    "import seaborn as sns #Helps with Data Visualization\n",
    "import sklearn\n",
    "import matplotlib\n",
    "import matplotlib.pyplot as plt\n",
    "\n",
    "from pandas import Series\n",
    "from pandas import DataFrame\n",
    "from sklearn.preprocessing import LabelEncoder\n",
    "from sklearn.preprocessing import StandardScaler\n",
    "from sklearn.model_selection import train_test_split\n",
    "from sklearn.neighbors import KNeighborsClassifier\n",
    "from sklearn.metrics import classification_report\n",
    "from sklearn.metrics import confusion_matrix\n",
    "from sklearn.metrics import accuracy_score\n",
    "from sklearn import metrics\n",
    "from sklearn.feature_selection import SelectKBest\n",
    "from sklearn.feature_selection import chi2\n",
    "from sklearn import neighbors\n",
    "from sklearn import datasets\n",
    "from matplotlib.colors import ListedColormap\n",
    "import sklearn.cluster as cluster\n",
    "from sklearn.tree import DecisionTreeClassifier \n",
    "\n",
    "%matplotlib notebook\n",
    "%matplotlib inline"
   ]
  },
  {
   "cell_type": "code",
   "execution_count": 2,
   "id": "06df2a77",
   "metadata": {},
   "outputs": [
    {
     "data": {
      "text/html": [
       "<div>\n",
       "<style scoped>\n",
       "    .dataframe tbody tr th:only-of-type {\n",
       "        vertical-align: middle;\n",
       "    }\n",
       "\n",
       "    .dataframe tbody tr th {\n",
       "        vertical-align: top;\n",
       "    }\n",
       "\n",
       "    .dataframe thead th {\n",
       "        text-align: right;\n",
       "    }\n",
       "</style>\n",
       "<table border=\"1\" class=\"dataframe\">\n",
       "  <thead>\n",
       "    <tr style=\"text-align: right;\">\n",
       "      <th></th>\n",
       "      <th>Preg</th>\n",
       "      <th>Plas</th>\n",
       "      <th>Pres</th>\n",
       "      <th>skin</th>\n",
       "      <th>test</th>\n",
       "      <th>mass</th>\n",
       "      <th>pedi</th>\n",
       "      <th>age</th>\n",
       "      <th>class</th>\n",
       "    </tr>\n",
       "  </thead>\n",
       "  <tbody>\n",
       "    <tr>\n",
       "      <th>0</th>\n",
       "      <td>6</td>\n",
       "      <td>148</td>\n",
       "      <td>72</td>\n",
       "      <td>35</td>\n",
       "      <td>0</td>\n",
       "      <td>33.6</td>\n",
       "      <td>0.627</td>\n",
       "      <td>50</td>\n",
       "      <td>1</td>\n",
       "    </tr>\n",
       "    <tr>\n",
       "      <th>1</th>\n",
       "      <td>1</td>\n",
       "      <td>85</td>\n",
       "      <td>66</td>\n",
       "      <td>29</td>\n",
       "      <td>0</td>\n",
       "      <td>26.6</td>\n",
       "      <td>0.351</td>\n",
       "      <td>31</td>\n",
       "      <td>0</td>\n",
       "    </tr>\n",
       "    <tr>\n",
       "      <th>2</th>\n",
       "      <td>8</td>\n",
       "      <td>183</td>\n",
       "      <td>64</td>\n",
       "      <td>0</td>\n",
       "      <td>0</td>\n",
       "      <td>23.3</td>\n",
       "      <td>0.672</td>\n",
       "      <td>32</td>\n",
       "      <td>1</td>\n",
       "    </tr>\n",
       "    <tr>\n",
       "      <th>3</th>\n",
       "      <td>1</td>\n",
       "      <td>89</td>\n",
       "      <td>66</td>\n",
       "      <td>23</td>\n",
       "      <td>94</td>\n",
       "      <td>28.1</td>\n",
       "      <td>0.167</td>\n",
       "      <td>21</td>\n",
       "      <td>0</td>\n",
       "    </tr>\n",
       "    <tr>\n",
       "      <th>4</th>\n",
       "      <td>0</td>\n",
       "      <td>137</td>\n",
       "      <td>40</td>\n",
       "      <td>35</td>\n",
       "      <td>168</td>\n",
       "      <td>43.1</td>\n",
       "      <td>2.288</td>\n",
       "      <td>33</td>\n",
       "      <td>1</td>\n",
       "    </tr>\n",
       "  </tbody>\n",
       "</table>\n",
       "</div>"
      ],
      "text/plain": [
       "   Preg  Plas  Pres  skin  test  mass   pedi  age  class\n",
       "0     6   148    72    35     0  33.6  0.627   50      1\n",
       "1     1    85    66    29     0  26.6  0.351   31      0\n",
       "2     8   183    64     0     0  23.3  0.672   32      1\n",
       "3     1    89    66    23    94  28.1  0.167   21      0\n",
       "4     0   137    40    35   168  43.1  2.288   33      1"
      ]
     },
     "execution_count": 2,
     "metadata": {},
     "output_type": "execute_result"
    }
   ],
   "source": [
    "import pandas as pd\n",
    "d = pd.read_csv('pima-indians-diabetes.csv',encoding='latin1') #Assigning the titanic.csv file to 'data' dataframe.\n",
    "d #printing the data\n",
    "output = 'class' #output variable\n",
    "d.head() "
   ]
  },
  {
   "cell_type": "raw",
   "id": "a3efb9df",
   "metadata": {},
   "source": [
    "2 : We are selecting Age, Mass and Class as the 3 best attributes from the table and we are creating a \"new_data\" dataframe in below section."
   ]
  },
  {
   "cell_type": "code",
   "execution_count": 3,
   "id": "f26754ed",
   "metadata": {},
   "outputs": [
    {
     "data": {
      "text/plain": [
       "Preg     0\n",
       "Plas     0\n",
       "Pres     0\n",
       "skin     0\n",
       "test     0\n",
       "mass     0\n",
       "pedi     0\n",
       "age      0\n",
       "class    0\n",
       "dtype: int64"
      ]
     },
     "execution_count": 3,
     "metadata": {},
     "output_type": "execute_result"
    }
   ],
   "source": [
    "d.isnull().sum() #also check the missed values."
   ]
  },
  {
   "cell_type": "code",
   "execution_count": 4,
   "id": "413cfaf6",
   "metadata": {},
   "outputs": [],
   "source": [
    "y = d[output]\n",
    "X = d.drop(output,axis = 1)"
   ]
  },
  {
   "cell_type": "code",
   "execution_count": 5,
   "id": "de3397bb",
   "metadata": {},
   "outputs": [
    {
     "name": "stdout",
     "output_type": "stream",
     "text": [
      "Index(['Plas', 'mass', 'pedi'], dtype='object')\n"
     ]
    }
   ],
   "source": [
    "m = DecisionTreeClassifier(max_depth=10,random_state=2022) #can play with the max_depth \n",
    "tree_= m.fit(X,y)\n",
    "importance = m.feature_importances_ #taking the important features using decision tree\n",
    "i = np.argsort(importance)[::-1] #sorting into order\n",
    "top_3_cols=X.columns[i[:3]] #top 3 varibales\n",
    "print(top_3_cols)"
   ]
  },
  {
   "cell_type": "code",
   "execution_count": 6,
   "id": "6d8cdf86",
   "metadata": {},
   "outputs": [],
   "source": [
    "new_d=d[['Plas','pedi','mass']] #assigning subset of the table to the new_data data frame."
   ]
  },
  {
   "cell_type": "markdown",
   "id": "add757ce",
   "metadata": {},
   "source": [
    "3.) Finding the Best K for the selected attributes."
   ]
  },
  {
   "cell_type": "code",
   "execution_count": 7,
   "id": "7cc77f7e",
   "metadata": {},
   "outputs": [
    {
     "name": "stdout",
     "output_type": "stream",
     "text": [
      "    Clusters            WSS\n",
      "0          1  831825.364942\n",
      "1          2  327271.136975\n",
      "2          3  197603.587736\n",
      "3          4  146195.331504\n",
      "4          5  110798.169885\n",
      "5          6   86679.452686\n",
      "6          7   75874.287332\n",
      "7          8   66925.677734\n",
      "8          9   59252.869540\n",
      "9         10   53939.904790\n",
      "10        11   49821.060393\n",
      "\n",
      "\n",
      "score of Silhoutte3 is 0.4584483014865275\n",
      "score of Silhoutte4 is 0.4141170404430481\n",
      "score of Silhoutte5 is 0.426089648880696\n",
      "score of Silhoutte6 is 0.3983353718937314\n",
      "score of Silhoutte7 is 0.3747936789443133\n",
      "score of Silhoutte8 is 0.3414564564120705\n",
      "score of Silhoutte9 is 0.35143781682407704\n",
      "score of Silhoutte10 is 0.3641031143061724\n",
      "score of Silhoutte11 is 0.34767089680578206\n",
      "score of Silhoutte12 is 0.34634724886855134\n"
     ]
    },
    {
     "data": {
      "image/png": "[encoded data removed]",
      "text/plain": [
       "<Figure size 432x288 with 1 Axes>"
      ]
     },
     "metadata": {
      "needs_background": "light"
     },
     "output_type": "display_data"
    }
   ],
   "source": [
    "#Finding best k using 3 attributes using elbow method:\n",
    "Best_dataK= new_d #creating a temporary variable 'Best_dataK'for calculating the best K.\n",
    "M=range(1,12) #cluster range form 1 to 12 among which the best K will be find out.\n",
    "wss=[]\n",
    "for k in M: #iterating from 1 to 12 times.\n",
    "    kmeans=cluster.KMeans(n_clusters=k,init=\"k-means++\") #for every k value from 1 to 12 it will create clusters\n",
    "    kmeans=kmeans.fit(Best_dataK)\n",
    "    wss_iter=kmeans.inertia_ #for each k clusters it finds the plot of it.\n",
    "    wss.append(wss_iter) # appending all k clusters one after the other.\n",
    "   \n",
    "AllCenters=pd.DataFrame({'Clusters' : M,'WSS' : wss}) #creating AllCenters dataframe with cluster count and plot value.\n",
    "print(AllCenters)\n",
    "print(\"\\n\")\n",
    "sns.scatterplot(x='Clusters',y='WSS', data=AllCenters, marker ='*', color = 'red') #plotting it in the graph.\n",
    "\n",
    "# We can also find the best k using Silhouette Method and we are verifing our elbow method using this method.\n",
    "for i in range(3,13):\n",
    "    labels=cluster.KMeans(n_clusters=i,init=\"k-means++\",random_state=200).fit(Best_dataK).labels_\n",
    "    print(\"score of Silhoutte\"+str(i)+\" is \"+str(metrics.silhouette_score(Best_dataK,labels,metric=\"euclidean\",sample_size=1000,random_state=200)))"
   ]
  },
  {
   "cell_type": "raw",
   "id": "dded9911",
   "metadata": {},
   "source": [
    "4.) Below code will split the 60% for training set, 20% for Validation set and 20% for testing set the classifier with random state as 2022."
   ]
  },
  {
   "cell_type": "code",
   "execution_count": 8,
   "id": "718968d7",
   "metadata": {},
   "outputs": [],
   "source": [
    "X=new_d.loc[:, new_d.columns != 'class']\n",
    "Y=d['class']"
   ]
  },
  {
   "cell_type": "code",
   "execution_count": 9,
   "id": "9246648c",
   "metadata": {},
   "outputs": [],
   "source": [
    "from sklearn.model_selection import train_test_split\n",
    "\n",
    "X_train,X_test,Y_train,Y_test = train_test_split(X,Y,test_size=0.2,random_state=2022) #we split the training part and testing part\n",
    "X_train,X_val,Y_train,Y_val = train_test_split(X_train,Y_train,test_size=0.2)# seperating training and validation set"
   ]
  },
  {
   "cell_type": "markdown",
   "id": "9c427777",
   "metadata": {},
   "source": [
    "5.)Testing the classifier with three different numbers for neighbors:"
   ]
  },
  {
   "cell_type": "code",
   "execution_count": 10,
   "id": "a0f6e1fe",
   "metadata": {},
   "outputs": [
    {
     "name": "stdout",
     "output_type": "stream",
     "text": [
      "[0 0 1 1 0 0 0 1 0 0 0 0 0 0 0 0 1 0 0 1 0 0 0 0 1 0 1 0 0 1 0 0 0 1 0 0 0\n",
      " 0 0 0 0 0 1 0 1 1 1 1 0 0 0 1 0 0 0 1 0 0 0 0 0 0 0 0 0 0 1 1 1 0 0 0 1 0\n",
      " 1 0 0 0 0 0 0 1 0 0 0 1 1 1 0 0 0 0 0 0 1 0 1 0 0 0 0 1 0 0 1 0 0 1 0 0 1\n",
      " 0 1 0 0 0 0 0 0 0 0 0 0 0 0 0 0 1 1 0 0 1 0 0 1 0 0 0 0 1 0 0 0 0 0 1 0 0\n",
      " 0 1 0 1 0 1]\n",
      "\n",
      "\n",
      "Accuracy Percentage for 3 neighbours is : 72%\n",
      "[0 0 1 1 0 0 0 1 0 0 0 0 0 0 0 0 0 0 0 1 0 0 0 0 1 0 1 0 0 0 0 0 0 1 0 0 1\n",
      " 0 0 0 0 0 1 0 1 1 0 0 0 0 0 1 0 0 0 1 0 0 0 0 0 0 0 0 0 0 1 1 1 0 0 0 0 0\n",
      " 0 0 0 0 0 0 0 0 0 0 0 0 0 1 0 0 0 0 0 0 1 0 0 0 0 0 0 1 0 0 1 0 0 1 0 0 0\n",
      " 0 1 0 0 0 0 0 0 0 0 0 0 0 0 0 0 1 0 0 0 0 0 0 1 0 0 0 0 1 0 0 0 0 0 0 0 0\n",
      " 0 0 0 0 0 1]\n",
      "\n",
      "\n",
      "Accuracy Percentage for 6 neighbours is :  73%\n",
      "[0 0 0 1 0 0 0 1 0 0 0 0 0 0 0 0 0 0 0 1 0 0 0 0 1 0 0 0 0 1 0 0 0 1 0 0 0\n",
      " 0 0 0 0 1 1 0 1 0 0 1 0 1 0 0 0 0 0 0 0 0 0 0 0 0 0 0 0 0 1 0 1 0 0 0 1 0\n",
      " 1 0 0 1 0 1 0 0 0 0 0 0 0 1 0 0 0 0 0 0 1 0 1 1 0 0 0 1 0 0 0 1 0 1 0 0 0\n",
      " 0 1 1 0 0 0 0 0 0 0 0 0 0 0 0 0 1 1 0 0 0 0 0 0 0 1 0 0 1 0 0 0 0 0 1 0 0\n",
      " 1 0 0 0 0 1]\n",
      "0.7857142857142857\n",
      "\n",
      "\n",
      "Accuracy Percentage for 23 neighbours is: 79%\n"
     ]
    }
   ],
   "source": [
    "from sklearn.neighbors import KNeighborsClassifier\n",
    "k_Val_1=3\n",
    "classifier1 = KNeighborsClassifier(n_neighbors=k_Val_1, metric='euclidean') \n",
    "classifier1.fit(X_train, Y_train) #training the mode\n",
    "Y_pred1 = classifier1.predict(X_test)  #This predicts the test data values\n",
    "print(Y_pred1)\n",
    "Accuracy1=classifier1.score(X_test,Y_test) #To find the Accuracy Percentage.\n",
    "Accuracy1 = \"{0:.0f}%\".format(Accuracy1 * 100)\n",
    "print(\"\\n\\nAccuracy Percentage for 3 neighbours is :\",Accuracy1) \n",
    "\n",
    "k_Val_2=6\n",
    "classifier1 = KNeighborsClassifier(n_neighbors=k_Val_2, metric='euclidean') \n",
    "classifier1.fit(X_train, Y_train) #training the mode\n",
    "Y_pred2 = classifier1.predict(X_test) #predicts the test data values\n",
    "print(Y_pred2)\n",
    "Accuracy2=classifier1.score(X_test,Y_test)# find the Accuracy Percentage.\n",
    "Accuracy2 = \"{0:.0f}%\".format(Accuracy2 * 100)\n",
    "print(\"\\n\\nAccuracy Percentage for 6 neighbours is : \",Accuracy2) \n",
    "\n",
    "k_Val_3=23\n",
    "classifier1 = KNeighborsClassifier(n_neighbors=k_Val_3, metric='euclidean') \n",
    "classifier1.fit(X_train, Y_train) #training the mode\n",
    "Y_pred3 = classifier1.predict(X_test) #This predicts the test data values\n",
    "print(Y_pred3)\n",
    "Accuracy3=classifier1.score(X_test,Y_test) #To find the Accuracy Percentage.\n",
    "print(Accuracy3)\n",
    "Accuracy3 = \"{0:.0f}%\".format(Accuracy3 * 100)\n",
    "print(\"\\n\\nAccuracy Percentage for 23 neighbours is:\",Accuracy3)"
   ]
  },
  {
   "cell_type": "markdown",
   "id": "1cc000b0",
   "metadata": {},
   "source": [
    "Confusion Matrices for three types of neighbours"
   ]
  },
  {
   "cell_type": "code",
   "execution_count": 11,
   "id": "ff8b8605",
   "metadata": {},
   "outputs": [
    {
     "name": "stdout",
     "output_type": "stream",
     "text": [
      "confusion matrix for k=3\n",
      " [[89 19]\n",
      " [24 22]]\n",
      "\n",
      "\n",
      "confusion matrix1 (Represented as Heat Map):\n",
      "\n",
      " AxesSubplot(0.125,0.125;0.62x0.755)\n"
     ]
    },
    {
     "data": {
      "image/png": "[encoded data removed]",
      "text/plain": [
       "<Figure size 432x288 with 2 Axes>"
      ]
     },
     "metadata": {
      "needs_background": "light"
     },
     "output_type": "display_data"
    }
   ],
   "source": [
    "cf=confusion_matrix(Y_test, Y_pred1)\n",
    "print(\"confusion matrix for k=3\\n\",confusion_matrix(Y_test, Y_pred1))\n",
    "print(\"\\n\\nconfusion matrix1 (Represented as Heat Map):\\n\\n\",sns.heatmap(cf, annot=True,fmt='d'))"
   ]
  },
  {
   "cell_type": "code",
   "execution_count": 12,
   "id": "9bec948a",
   "metadata": {},
   "outputs": [
    {
     "name": "stdout",
     "output_type": "stream",
     "text": [
      "confusion matrix for k=6\n",
      " [[97 11]\n",
      " [31 15]]\n",
      "\n",
      "\n",
      "confusion matrix2 (Represented as Heat Map):\n",
      "\n",
      " AxesSubplot(0.125,0.125;0.62x0.755)\n"
     ]
    },
    {
     "data": {
      "image/png": "[encoded data removed]",
      "text/plain": [
       "<Figure size 432x288 with 2 Axes>"
      ]
     },
     "metadata": {
      "needs_background": "light"
     },
     "output_type": "display_data"
    }
   ],
   "source": [
    "cf=confusion_matrix(Y_test, Y_pred1)\n",
    "print(\"confusion matrix for k=6\\n\",confusion_matrix(Y_test, Y_pred2))\n",
    "print(\"\\n\\nconfusion matrix2 (Represented as Heat Map):\\n\\n\",sns.heatmap(cf, annot=True,fmt='d'))"
   ]
  },
  {
   "cell_type": "code",
   "execution_count": 13,
   "id": "73789242",
   "metadata": {},
   "outputs": [
    {
     "name": "stdout",
     "output_type": "stream",
     "text": [
      "confusion matrix for k=23\n",
      " [[98 10]\n",
      " [23 23]]\n",
      "\n",
      "\n",
      "confusion matrix3 (Represented as Heat Map):\n",
      "\n",
      " AxesSubplot(0.125,0.125;0.62x0.755)\n"
     ]
    },
    {
     "data": {
      "image/png": "[encoded data removed]",
      "text/plain": [
       "<Figure size 432x288 with 2 Axes>"
      ]
     },
     "metadata": {
      "needs_background": "light"
     },
     "output_type": "display_data"
    }
   ],
   "source": [
    "cf=confusion_matrix(Y_test, Y_pred1)\n",
    "print(\"confusion matrix for k=23\\n\",confusion_matrix(Y_test, Y_pred3))\n",
    "print(\"\\n\\nconfusion matrix3 (Represented as Heat Map):\\n\\n\",sns.heatmap(cf, annot=True,fmt='d'))"
   ]
  },
  {
   "cell_type": "markdown",
   "id": "0fe06075",
   "metadata": {},
   "source": [
    "Classification Reports for the above scenarios:"
   ]
  },
  {
   "cell_type": "code",
   "execution_count": 14,
   "id": "2fc4d4c5",
   "metadata": {},
   "outputs": [
    {
     "name": "stdout",
     "output_type": "stream",
     "text": [
      "\n",
      "\n",
      "classification report for k=3\n",
      "\n",
      "               precision    recall  f1-score   support\n",
      "\n",
      "           0       0.79      0.82      0.81       108\n",
      "           1       0.54      0.48      0.51        46\n",
      "\n",
      "    accuracy                           0.72       154\n",
      "   macro avg       0.66      0.65      0.66       154\n",
      "weighted avg       0.71      0.72      0.72       154\n",
      "\n"
     ]
    }
   ],
   "source": [
    "print(\"\\n\\nclassification report for k=3\\n\\n\",classification_report(Y_test, Y_pred1))"
   ]
  },
  {
   "cell_type": "code",
   "execution_count": 15,
   "id": "bc630c4e",
   "metadata": {},
   "outputs": [
    {
     "name": "stdout",
     "output_type": "stream",
     "text": [
      "\n",
      "\n",
      "classification report for k=6\n",
      "\n",
      "               precision    recall  f1-score   support\n",
      "\n",
      "           0       0.76      0.90      0.82       108\n",
      "           1       0.58      0.33      0.42        46\n",
      "\n",
      "    accuracy                           0.73       154\n",
      "   macro avg       0.67      0.61      0.62       154\n",
      "weighted avg       0.70      0.73      0.70       154\n",
      "\n"
     ]
    }
   ],
   "source": [
    "print(\"\\n\\nclassification report for k=6\\n\\n\",classification_report(Y_test, Y_pred2))\n"
   ]
  },
  {
   "cell_type": "code",
   "execution_count": 16,
   "id": "55ce17d7",
   "metadata": {},
   "outputs": [
    {
     "name": "stdout",
     "output_type": "stream",
     "text": [
      "\n",
      "\n",
      "classification report for k=23\n",
      "\n",
      "               precision    recall  f1-score   support\n",
      "\n",
      "           0       0.81      0.91      0.86       108\n",
      "           1       0.70      0.50      0.58        46\n",
      "\n",
      "    accuracy                           0.79       154\n",
      "   macro avg       0.75      0.70      0.72       154\n",
      "weighted avg       0.78      0.79      0.77       154\n",
      "\n"
     ]
    }
   ],
   "source": [
    "print(\"\\n\\nclassification report for k=23\\n\\n\",classification_report(Y_test, Y_pred3))"
   ]
  },
  {
   "cell_type": "code",
   "execution_count": 17,
   "id": "90372896",
   "metadata": {},
   "outputs": [
    {
     "data": {
      "text/plain": [
       "<matplotlib.collections.PathCollection at 0x7fe5d0082c40>"
      ]
     },
     "execution_count": 17,
     "metadata": {},
     "output_type": "execute_result"
    },
    {
     "data": {
      "image/png": "[encoded data removed]",
      "text/plain": [
       "<Figure size 432x288 with 1 Axes>"
      ]
     },
     "metadata": {
      "needs_background": "light"
     },
     "output_type": "display_data"
    }
   ],
   "source": [
    "plt.xlabel(\"Plas\")\n",
    "plt.ylabel(\"Mass\")\n",
    "plt.scatter(X_test['Plas'], X_test['mass'], c=Y_pred1,cmap='coolwarm')"
   ]
  },
  {
   "cell_type": "code",
   "execution_count": 18,
   "id": "f675aec2",
   "metadata": {},
   "outputs": [
    {
     "data": {
      "text/plain": [
       "<matplotlib.collections.PathCollection at 0x7fe62353e8e0>"
      ]
     },
     "execution_count": 18,
     "metadata": {},
     "output_type": "execute_result"
    },
    {
     "data": {
      "image/png": "[encoded data removed]",
      "text/plain": [
       "<Figure size 432x288 with 1 Axes>"
      ]
     },
     "metadata": {
      "needs_background": "light"
     },
     "output_type": "display_data"
    }
   ],
   "source": [
    "plt.xlabel(\"Age\")\n",
    "plt.ylabel(\"Mass\")\n",
    "plt.scatter(X_test['Plas'], X_test['mass'], c=Y_pred2,cmap='coolwarm')"
   ]
  },
  {
   "cell_type": "code",
   "execution_count": 19,
   "id": "d19dc47b",
   "metadata": {},
   "outputs": [
    {
     "data": {
      "text/plain": [
       "<matplotlib.collections.PathCollection at 0x7fe630be2130>"
      ]
     },
     "execution_count": 19,
     "metadata": {},
     "output_type": "execute_result"
    },
    {
     "data": {
      "image/png": "[encoded data removed]",
      "text/plain": [
       "<Figure size 432x288 with 1 Axes>"
      ]
     },
     "metadata": {
      "needs_background": "light"
     },
     "output_type": "display_data"
    }
   ],
   "source": [
    "plt.xlabel(\"Age\")\n",
    "plt.ylabel(\"Mass\")\n",
    "plt.scatter(X_test['Plas'], X_test['mass'], c=Y_pred3,cmap='coolwarm')"
   ]
  },
  {
   "cell_type": "code",
   "execution_count": 20,
   "id": "5f3e8fd8",
   "metadata": {},
   "outputs": [
    {
     "data": {
      "text/plain": [
       "Text(0, 0.5, 'Accuracy')"
      ]
     },
     "execution_count": 20,
     "metadata": {},
     "output_type": "execute_result"
    },
    {
     "data": {
      "image/png": "[encoded data removed]",
      "text/plain": [
       "<Figure size 432x288 with 1 Axes>"
      ]
     },
     "metadata": {
      "needs_background": "light"
     },
     "output_type": "display_data"
    }
   ],
   "source": [
    "# classifier for all three different numbers\n",
    "#x is the k values considered\n",
    "#y is the accuracy for each considered k values(approximately)\n",
    "x = (k_Val_1,k_Val_2,k_Val_3)\n",
    "y = [Accuracy1, Accuracy2 , Accuracy3]\n",
    "\n",
    "plt.plot(x, y)\n",
    "plt.xlabel('K value')\n",
    "plt.ylabel('Accuracy')"
   ]
  }
 ],
 "metadata": {
  "kernelspec": {
   "display_name": "Python 3 (ipykernel)",
   "language": "python",
   "name": "python3"
  },
  "language_info": {
   "codemirror_mode": {
    "name": "ipython",
    "version": 3
   },
   "file_extension": ".py",
   "mimetype": "text/x-python",
   "name": "python",
   "nbconvert_exporter": "python",
   "pygments_lexer": "ipython3",
   "version": "3.9.12"
  }
 },
 "nbformat": 4,
 "nbformat_minor": 5
}
